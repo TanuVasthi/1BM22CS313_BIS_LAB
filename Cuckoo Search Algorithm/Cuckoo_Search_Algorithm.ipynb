{
  "nbformat": 4,
  "nbformat_minor": 0,
  "metadata": {
    "colab": {
      "provenance": []
    },
    "kernelspec": {
      "name": "python3",
      "display_name": "Python 3"
    },
    "language_info": {
      "name": "python"
    }
  },
  "cells": [
    {
      "cell_type": "code",
      "execution_count": null,
      "metadata": {
        "colab": {
          "base_uri": "https://localhost:8080/"
        },
        "id": "Ef5VzcjP6b8X",
        "outputId": "e7551fdd-d96e-4834-c355-5319de2a238a"
      },
      "outputs": [
        {
          "output_type": "stream",
          "name": "stdout",
          "text": [
            "Best Wind Farm Placement: [[733.63320435  95.69672436]\n",
            " [597.82866783 914.88505148]\n",
            " [958.46347551 734.76656002]\n",
            " [302.20328039  38.59805716]\n",
            " [838.50931748 978.31225114]]\n",
            "Best Fitness (Total Energy): 1200.0000000000002\n"
          ]
        }
      ],
      "source": [
        "import numpy as np\n",
        "\n",
        "wind_speed = 12\n",
        "turbine_efficiency = 0.4\n",
        "turbine_radius = 50\n",
        "farm_width = 1000\n",
        "farm_height = 1000\n",
        "\n",
        "def objective_function(turbine_positions):\n",
        "    total_energy = 0\n",
        "    num_turbines = turbine_positions.shape[0]\n",
        "    for i in range(num_turbines):\n",
        "        x1, y1 = turbine_positions[i]\n",
        "        energy = turbine_efficiency * wind_speed * turbine_radius\n",
        "        for j in range(i + 1, num_turbines):\n",
        "            x2, y2 = turbine_positions[j]\n",
        "            distance = np.sqrt((x2 - x1)**2 + (y2 - y1)**2)\n",
        "            if distance < turbine_radius * 2:\n",
        "                energy -= (turbine_radius * 2 - distance) * 10\n",
        "        total_energy += max(0, energy)\n",
        "    return -total_energy\n",
        "\n",
        "def cuckoo_search(nests, max_iter, prob_abandon):\n",
        "    num_turbines = nests[0].shape[0]\n",
        "    dim = nests[0].shape[1]\n",
        "\n",
        "    best_solution = np.copy(nests[0])\n",
        "    best_fitness = objective_function(best_solution)\n",
        "\n",
        "    for iter in range(max_iter):\n",
        "        new_nests = []\n",
        "        for nest in nests:\n",
        "            step = np.random.normal(0, 1, (num_turbines, dim))\n",
        "            new_nest = nest + step\n",
        "            new_nest = np.clip(new_nest, [0, 0], [farm_width, farm_height])\n",
        "            new_nests.append(new_nest)\n",
        "\n",
        "        for i in range(len(nests)):\n",
        "            fitness = objective_function(new_nests[i])\n",
        "            if fitness < objective_function(nests[i]):\n",
        "                nests[i] = new_nests[i]\n",
        "                if fitness < best_fitness:\n",
        "                    best_solution = np.copy(nests[i])\n",
        "                    best_fitness = fitness\n",
        "\n",
        "        worst_nest_indices = np.argsort([objective_function(nest) for nest in nests])[-int(prob_abandon * len(nests)): ]\n",
        "        for index in worst_nest_indices:\n",
        "            nests[index] = np.random.uniform(0, farm_width, (num_turbines, dim))\n",
        "\n",
        "    return best_solution, best_fitness\n",
        "\n",
        "num_turbines = 5\n",
        "nests = [np.random.uniform(0, farm_width, (num_turbines, 2)) for _ in range(10)]\n",
        "max_iter = 100\n",
        "prob_abandon = 0.3\n",
        "\n",
        "best_solution, best_fitness = cuckoo_search(nests, max_iter, prob_abandon)\n",
        "print(f\"Best Wind Farm Placement: {best_solution}\")\n",
        "print(f\"Best Fitness (Total Energy): {-best_fitness}\")\n"
      ]
    }
  ]
}