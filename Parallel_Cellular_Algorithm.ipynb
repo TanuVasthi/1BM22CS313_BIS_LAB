{
  "nbformat": 4,
  "nbformat_minor": 0,
  "metadata": {
    "colab": {
      "provenance": []
    },
    "kernelspec": {
      "name": "python3",
      "display_name": "Python 3"
    },
    "language_info": {
      "name": "python"
    }
  },
  "cells": [
    {
      "cell_type": "code",
      "execution_count": 2,
      "metadata": {
        "colab": {
          "base_uri": "https://localhost:8080/"
        },
        "id": "FONcXt14-L9d",
        "outputId": "7884a7f1-e8da-4379-d146-da4b5e43665e"
      },
      "outputs": [
        {
          "output_type": "stream",
          "name": "stdout",
          "text": [
            "Generated Key: cc9ed846cc9ed846cc9ed846cc9ed846\n"
          ]
        }
      ],
      "source": [
        "import random\n",
        "\n",
        "def initialize_grid(size, seed=None):\n",
        "    if seed:\n",
        "        random.seed(seed)\n",
        "    return [random.randint(0, 1) for _ in range(size)]\n",
        "\n",
        "def update_grid(grid, rule):\n",
        "    new_grid = grid[:]\n",
        "    n = len(grid)\n",
        "    for i in range(n):\n",
        "        left = grid[(i - 1) % n]\n",
        "        center = grid[i]\n",
        "        right = grid[(i + 1) % n]\n",
        "        new_grid[i] = rule(left, center, right)\n",
        "    return new_grid\n",
        "\n",
        "def xor_rule(left, center, right):\n",
        "    return left ^ right\n",
        "\n",
        "def generate_key(grid, iterations, rule):\n",
        "    for _ in range(iterations):\n",
        "        grid = update_grid(grid, rule)\n",
        "    binary_key = ''.join(map(str, grid))\n",
        "    return hex(int(binary_key, 2))[2:]\n",
        "\n",
        "key_length = 128\n",
        "seed = 12345\n",
        "iterations = 50\n",
        "\n",
        "initial_grid = initialize_grid(key_length, seed)\n",
        "key = generate_key(initial_grid, iterations, xor_rule)\n",
        "\n",
        "print(\"Generated Key:\", key)\n"
      ]
    }
  ]
}