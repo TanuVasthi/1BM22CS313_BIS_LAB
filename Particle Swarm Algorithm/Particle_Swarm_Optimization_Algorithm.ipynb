{
  "nbformat": 4,
  "nbformat_minor": 0,
  "metadata": {
    "colab": {
      "provenance": []
    },
    "kernelspec": {
      "name": "python3",
      "display_name": "Python 3"
    },
    "language_info": {
      "name": "python"
    }
  },
  "cells": [
    {
      "cell_type": "code",
      "execution_count": null,
      "metadata": {
        "colab": {
          "base_uri": "https://localhost:8080/"
        },
        "id": "Lg6aR4jIry-T",
        "outputId": "308069e3-f74e-44ec-8ef4-bd29aadfc687"
      },
      "outputs": [
        {
          "output_type": "stream",
          "name": "stdout",
          "text": [
            "Best Position: 3.785890038682268e-15\n",
            "Best Score: 1.4332963384993628e-29\n"
          ]
        }
      ],
      "source": [
        "import numpy as np\n",
        "\n",
        "def objective_function(x):\n",
        "    return x**2\n",
        "\n",
        "num_particles = 30\n",
        "num_iterations = 100\n",
        "inertia_weight = 0.5\n",
        "cognitive_coeff = 1.5\n",
        "social_coeff = 1.5\n",
        "\n",
        "positions = np.random.uniform(-10, 10, num_particles)\n",
        "velocities = np.random.uniform(-1, 1, num_particles)\n",
        "personal_best_positions = positions.copy()\n",
        "personal_best_scores = objective_function(personal_best_positions)\n",
        "global_best_position = personal_best_positions[np.argmin(personal_best_scores)]\n",
        "\n",
        "def evaluate_fitness():\n",
        "    global global_best_position\n",
        "    current_scores = objective_function(positions)\n",
        "    for i in range(num_particles):\n",
        "        if current_scores[i] < personal_best_scores[i]:\n",
        "            personal_best_scores[i] = current_scores[i]\n",
        "            personal_best_positions[i] = positions[i]\n",
        "    global_best_position = personal_best_positions[np.argmin(personal_best_scores)]\n",
        "\n",
        "def update_particles():\n",
        "    global positions, velocities\n",
        "    for i in range(num_particles):\n",
        "        r1 = np.random.random()\n",
        "        r2 = np.random.random()\n",
        "\n",
        "        cognitive_velocity = cognitive_coeff * r1 * (personal_best_positions[i] - positions[i])\n",
        "        social_velocity = social_coeff * r2 * (global_best_position - positions[i])\n",
        "\n",
        "        velocities[i] = (inertia_weight * velocities[i] +\n",
        "                         cognitive_velocity +\n",
        "                         social_velocity)\n",
        "\n",
        "        positions[i] += velocities[i]\n",
        "\n",
        "for _ in range(num_iterations):\n",
        "    evaluate_fitness()\n",
        "    update_particles()\n",
        "\n",
        "print(\"Best Position:\", global_best_position)\n",
        "print(\"Best Score:\", objective_function(global_best_position))\n"
      ]
    }
  ]
}